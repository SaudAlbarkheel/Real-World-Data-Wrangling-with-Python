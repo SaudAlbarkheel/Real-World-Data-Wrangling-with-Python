{
 "cells": [
  {
   "cell_type": "markdown",
   "metadata": {
    "id": "GNIwe5N7s0e_"
   },
   "source": [
    "# Real-world Data Wrangling"
   ]
  },
  {
   "cell_type": "code",
   "execution_count": 1,
   "metadata": {
    "scrolled": true
   },
   "outputs": [
    {
     "name": "stdout",
     "output_type": "stream",
     "text": [
      "['__pycache__', 'bin', 'six-1.17.0.dist-info', 'python_dateutil-2.9.0.post0.dist-info', 'numpy', 'pandas', 'raw_data_population.csv', '.ipynb_checkpoints', 'Electric_Vehicle_Population_Data.csv', 'numpy-1.24.3.dist-info', 'cleaned_data_population.csv', 'untitled', 'cleaned_data_ev.csv', 'certifi-2025.1.31.dist-info', 'tzdata', 'ucimlrepo', '.Trash-1001', 'Electric_Vehicle_Population_Size_History_By_County.csv', 'pytz-2025.2.dist-info', 'ucimlrepo-0.0.7.dist-info', 'pandas-2.2.3.dist-info', 'Data_Wrangling_Project_Starter.ipynb', 'numpy.libs', 'pytz', 'untitled2', 'dateutil', 'untitled1', 'tzdata-2025.2.dist-info', 'six.py', 'raw_data_ev.csv', 'certifi']\n"
     ]
    }
   ],
   "source": [
    "import os\n",
    "print(os.listdir())"
   ]
  },
  {
   "cell_type": "markdown",
   "metadata": {
    "id": "_BG63Tpg8ep_"
   },
   "source": [
    "In this project, you will apply the skills you acquired in the course to gather and wrangle real-world data with two datasets of your choice.\n",
    "\n",
    "You will retrieve and extract the data, assess the data programmatically and visually, accross elements of data quality and structure, and implement a cleaning strategy for the data. You will then store the updated data into your selected database/data store, combine the data, and answer a research question with the datasets.\n",
    "\n",
    "Throughout the process, you are expected to:\n",
    "\n",
    "1. Explain your decisions towards methods used for gathering, assessing, cleaning, storing, and answering the research question\n",
    "2. Write code comments so your code is more readable\n",
    "\n",
    "Before you start, install the some of the required packages. "
   ]
  },
  {
   "cell_type": "code",
   "execution_count": 2,
   "metadata": {},
   "outputs": [
    {
     "name": "stdout",
     "output_type": "stream",
     "text": [
      "Defaulting to user installation because normal site-packages is not writeable\n",
      "Collecting kaggle==1.6.12\n",
      "  Downloading kaggle-1.6.12.tar.gz (79 kB)\n",
      "\u001b[2K     \u001b[90m━━━━━━━━━━━━━━━━━━━━━━━━━━━━━━━━━━━━━━━━\u001b[0m \u001b[32m79.7/79.7 kB\u001b[0m \u001b[31m1.4 MB/s\u001b[0m eta \u001b[36m0:00:00\u001b[0ma \u001b[36m0:00:01\u001b[0m\n",
      "\u001b[?25h  Preparing metadata (setup.py) ... \u001b[?25ldone\n",
      "\u001b[?25hRequirement already satisfied: six>=1.10 in /opt/conda/lib/python3.10/site-packages (from kaggle==1.6.12) (1.16.0)\n",
      "Collecting certifi>=2023.7.22\n",
      "  Downloading certifi-2025.1.31-py3-none-any.whl (166 kB)\n",
      "\u001b[2K     \u001b[90m━━━━━━━━━━━━━━━━━━━━━━━━━━━━━━━━━━━━━━━\u001b[0m \u001b[32m166.4/166.4 kB\u001b[0m \u001b[31m9.5 MB/s\u001b[0m eta \u001b[36m0:00:00\u001b[0m\n",
      "\u001b[?25hRequirement already satisfied: python-dateutil in /opt/conda/lib/python3.10/site-packages (from kaggle==1.6.12) (2.9.0.post0)\n",
      "Requirement already satisfied: requests in /opt/conda/lib/python3.10/site-packages (from kaggle==1.6.12) (2.29.0)\n",
      "Requirement already satisfied: tqdm in /opt/conda/lib/python3.10/site-packages (from kaggle==1.6.12) (4.65.0)\n",
      "Collecting python-slugify\n",
      "  Downloading python_slugify-8.0.4-py2.py3-none-any.whl (10 kB)\n",
      "Requirement already satisfied: urllib3 in /opt/conda/lib/python3.10/site-packages (from kaggle==1.6.12) (1.26.15)\n",
      "Requirement already satisfied: bleach in /opt/conda/lib/python3.10/site-packages (from kaggle==1.6.12) (6.1.0)\n",
      "Requirement already satisfied: webencodings in /opt/conda/lib/python3.10/site-packages (from bleach->kaggle==1.6.12) (0.5.1)\n",
      "Collecting text-unidecode>=1.3\n",
      "  Downloading text_unidecode-1.3-py2.py3-none-any.whl (78 kB)\n",
      "\u001b[2K     \u001b[90m━━━━━━━━━━━━━━━━━━━━━━━━━━━━━━━━━━━━━━━━\u001b[0m \u001b[32m78.2/78.2 kB\u001b[0m \u001b[31m12.4 MB/s\u001b[0m eta \u001b[36m0:00:00\u001b[0m\n",
      "\u001b[?25hRequirement already satisfied: idna<4,>=2.5 in /opt/conda/lib/python3.10/site-packages (from requests->kaggle==1.6.12) (3.4)\n",
      "Requirement already satisfied: charset-normalizer<4,>=2 in /opt/conda/lib/python3.10/site-packages (from requests->kaggle==1.6.12) (2.0.4)\n",
      "Building wheels for collected packages: kaggle\n",
      "  Building wheel for kaggle (setup.py) ... \u001b[?25ldone\n",
      "\u001b[?25h  Created wheel for kaggle: filename=kaggle-1.6.12-py3-none-any.whl size=102969 sha256=075b8174b5f71583227cc7112bbded1966e28c0183222188ffd6fad2eb38e428\n",
      "  Stored in directory: /home/student/.cache/pip/wheels/1e/0b/7c/50f8e89c3d2f82838dbd7afeddffbb9357003009ada98216c7\n",
      "Successfully built kaggle\n",
      "Installing collected packages: text-unidecode, python-slugify, certifi, kaggle\n",
      "\u001b[33m  WARNING: The script slugify is installed in '/home/student/.local/bin' which is not on PATH.\n",
      "  Consider adding this directory to PATH or, if you prefer to suppress this warning, use --no-warn-script-location.\u001b[0m\u001b[33m\n",
      "\u001b[0m\u001b[33m  WARNING: The script kaggle is installed in '/home/student/.local/bin' which is not on PATH.\n",
      "  Consider adding this directory to PATH or, if you prefer to suppress this warning, use --no-warn-script-location.\u001b[0m\u001b[33m\n",
      "\u001b[0mSuccessfully installed certifi-2025.1.31 kaggle-1.6.12 python-slugify-8.0.4 text-unidecode-1.3\n"
     ]
    }
   ],
   "source": [
    "!python -m pip install kaggle==1.6.12"
   ]
  },
  {
   "cell_type": "code",
   "execution_count": 3,
   "metadata": {},
   "outputs": [
    {
     "name": "stdout",
     "output_type": "stream",
     "text": [
      "Collecting ucimlrepo\n",
      "  Downloading ucimlrepo-0.0.7-py3-none-any.whl (8.0 kB)\n",
      "Collecting numpy==1.24.3\n",
      "  Downloading numpy-1.24.3-cp310-cp310-manylinux_2_17_x86_64.manylinux2014_x86_64.whl (17.3 MB)\n",
      "\u001b[2K     \u001b[90m━━━━━━━━━━━━━━━━━━━━━━━━━━━━━━━━━━━━━━━━\u001b[0m \u001b[32m17.3/17.3 MB\u001b[0m \u001b[31m67.6 MB/s\u001b[0m eta \u001b[36m0:00:00\u001b[0m00:01\u001b[0m00:01\u001b[0m\n",
      "\u001b[?25hCollecting certifi>=2020.12.5\n",
      "  Using cached certifi-2025.1.31-py3-none-any.whl (166 kB)\n",
      "Collecting pandas>=1.0.0\n",
      "  Downloading pandas-2.2.3-cp310-cp310-manylinux_2_17_x86_64.manylinux2014_x86_64.whl (13.1 MB)\n",
      "\u001b[2K     \u001b[90m━━━━━━━━━━━━━━━━━━━━━━━━━━━━━━━━━━━━━━━━\u001b[0m \u001b[32m13.1/13.1 MB\u001b[0m \u001b[31m78.1 MB/s\u001b[0m eta \u001b[36m0:00:00\u001b[0m00:01\u001b[0m00:01\u001b[0m\n",
      "\u001b[?25hCollecting tzdata>=2022.7\n",
      "  Downloading tzdata-2025.2-py2.py3-none-any.whl (347 kB)\n",
      "\u001b[2K     \u001b[90m━━━━━━━━━━━━━━━━━━━━━━━━━━━━━━━━━━━━━━\u001b[0m \u001b[32m347.8/347.8 kB\u001b[0m \u001b[31m37.7 MB/s\u001b[0m eta \u001b[36m0:00:00\u001b[0m\n",
      "\u001b[?25hCollecting python-dateutil>=2.8.2\n",
      "  Downloading python_dateutil-2.9.0.post0-py2.py3-none-any.whl (229 kB)\n",
      "\u001b[2K     \u001b[90m━━━━━━━━━━━━━━━━━━━━━━━━━━━━━━━━━━━━━━\u001b[0m \u001b[32m229.9/229.9 kB\u001b[0m \u001b[31m33.6 MB/s\u001b[0m eta \u001b[36m0:00:00\u001b[0m\n",
      "\u001b[?25hCollecting pytz>=2020.1\n",
      "  Downloading pytz-2025.2-py2.py3-none-any.whl (509 kB)\n",
      "\u001b[2K     \u001b[90m━━━━━━━━━━━━━━━━━━━━━━━━━━━━━━━━━━━━━━\u001b[0m \u001b[32m509.2/509.2 kB\u001b[0m \u001b[31m46.8 MB/s\u001b[0m eta \u001b[36m0:00:00\u001b[0m\n",
      "\u001b[?25hCollecting six>=1.5\n",
      "  Downloading six-1.17.0-py2.py3-none-any.whl (11 kB)\n",
      "Installing collected packages: pytz, tzdata, six, numpy, certifi, python-dateutil, pandas, ucimlrepo\n",
      "Successfully installed certifi-2025.1.31 numpy-1.24.3 pandas-2.2.3 python-dateutil-2.9.0.post0 pytz-2025.2 six-1.17.0 tzdata-2025.2 ucimlrepo-0.0.7\n",
      "\u001b[33mWARNING: Target directory /workspace/__pycache__ already exists. Specify --upgrade to force replacement.\u001b[0m\u001b[33m\n",
      "\u001b[0m\u001b[33mWARNING: Target directory /workspace/six-1.17.0.dist-info already exists. Specify --upgrade to force replacement.\u001b[0m\u001b[33m\n",
      "\u001b[0m\u001b[33mWARNING: Target directory /workspace/python_dateutil-2.9.0.post0.dist-info already exists. Specify --upgrade to force replacement.\u001b[0m\u001b[33m\n",
      "\u001b[0m\u001b[33mWARNING: Target directory /workspace/numpy already exists. Specify --upgrade to force replacement.\u001b[0m\u001b[33m\n",
      "\u001b[0m\u001b[33mWARNING: Target directory /workspace/pandas already exists. Specify --upgrade to force replacement.\u001b[0m\u001b[33m\n",
      "\u001b[0m\u001b[33mWARNING: Target directory /workspace/numpy-1.24.3.dist-info already exists. Specify --upgrade to force replacement.\u001b[0m\u001b[33m\n",
      "\u001b[0m\u001b[33mWARNING: Target directory /workspace/certifi-2025.1.31.dist-info already exists. Specify --upgrade to force replacement.\u001b[0m\u001b[33m\n",
      "\u001b[0m\u001b[33mWARNING: Target directory /workspace/tzdata already exists. Specify --upgrade to force replacement.\u001b[0m\u001b[33m\n",
      "\u001b[0m\u001b[33mWARNING: Target directory /workspace/ucimlrepo already exists. Specify --upgrade to force replacement.\u001b[0m\u001b[33m\n",
      "\u001b[0m\u001b[33mWARNING: Target directory /workspace/pytz-2025.2.dist-info already exists. Specify --upgrade to force replacement.\u001b[0m\u001b[33m\n",
      "\u001b[0m\u001b[33mWARNING: Target directory /workspace/ucimlrepo-0.0.7.dist-info already exists. Specify --upgrade to force replacement.\u001b[0m\u001b[33m\n",
      "\u001b[0m\u001b[33mWARNING: Target directory /workspace/pandas-2.2.3.dist-info already exists. Specify --upgrade to force replacement.\u001b[0m\u001b[33m\n",
      "\u001b[0m\u001b[33mWARNING: Target directory /workspace/numpy.libs already exists. Specify --upgrade to force replacement.\u001b[0m\u001b[33m\n",
      "\u001b[0m\u001b[33mWARNING: Target directory /workspace/pytz already exists. Specify --upgrade to force replacement.\u001b[0m\u001b[33m\n",
      "\u001b[0m\u001b[33mWARNING: Target directory /workspace/dateutil already exists. Specify --upgrade to force replacement.\u001b[0m\u001b[33m\n",
      "\u001b[0m\u001b[33mWARNING: Target directory /workspace/tzdata-2025.2.dist-info already exists. Specify --upgrade to force replacement.\u001b[0m\u001b[33m\n",
      "\u001b[0m\u001b[33mWARNING: Target directory /workspace/six.py already exists. Specify --upgrade to force replacement.\u001b[0m\u001b[33m\n",
      "\u001b[0m\u001b[33mWARNING: Target directory /workspace/certifi already exists. Specify --upgrade to force replacement.\u001b[0m\u001b[33m\n",
      "\u001b[0m\u001b[33mWARNING: Target directory /workspace/bin already exists. Specify --upgrade to force replacement.\u001b[0m\u001b[33m\n",
      "\u001b[0m"
     ]
    }
   ],
   "source": [
    "!pip install --target=/workspace ucimlrepo numpy==1.24.3"
   ]
  },
  {
   "cell_type": "markdown",
   "metadata": {},
   "source": [
    "**Note:** Restart the kernel to use updated package(s)."
   ]
  },
  {
   "cell_type": "markdown",
   "metadata": {
    "id": "lDYDkH-Zs7Nn"
   },
   "source": [
    "## 1. Gather data\n",
    "\n",
    "In this section, you will extract data using two different data gathering methods and combine the data. Use at least two different types of data-gathering methods."
   ]
  },
  {
   "cell_type": "markdown",
   "metadata": {
    "id": "LbN7z7rcuqpO"
   },
   "source": [
    "### **1.1.** Problem Statement\n",
    "In this project, I aim to explore the relationship between the growth of electric vehicle (EV) adoption over time and the distribution of electric vehicle populations by region. I will wrangle and analyze two different datasets: one containing electric vehicle registration details and another capturing electric vehicle population size history by county. This exploration helps understand how EV adoption patterns change across regions over time, reflecting broader trends in technological advancement and public adoption of sustainable transportation."
   ]
  },
  {
   "cell_type": "markdown",
   "metadata": {
    "id": "gi6swhjSYqu2"
   },
   "source": [
    "Finding the right datasets can be time-consuming. Here we provide you with a list of websites to start with. But we encourage you to explore more websites and find the data that interests you.\n",
    "\n",
    "* Google Dataset Search https://datasetsearch.research.google.com/\n",
    "* The U.S. Government’s open data https://data.gov/\n",
    "* UCI Machine Learning Repository https://archive.ics.uci.edu/ml/index.php\n"
   ]
  },
  {
   "cell_type": "markdown",
   "metadata": {
    "id": "8AQfBAdUypMm"
   },
   "source": [
    "### **1.2.** Gather at least two datasets using two different data gathering methods\n",
    "\n",
    "List of data gathering methods:\n",
    "\n",
    "- Download data manually\n",
    "- Programmatically downloading files\n",
    "- Gather data by accessing APIs\n",
    "- Gather and extract data from HTML files using BeautifulSoup\n",
    "- Extract data from a SQL database\n",
    "\n",
    "Each dataset must have at least two variables, and have greater than 500 data samples within each dataset.\n",
    "\n",
    "For each dataset, briefly describe why you picked the dataset and the gathering method (2-3 full sentences), including the names and significance of the variables in the dataset. Show your work (e.g., if using an API to download the data, please include a snippet of your code). \n",
    "\n",
    "Load the dataset programmtically into this notebook."
   ]
  },
  {
   "cell_type": "markdown",
   "metadata": {
    "id": "7e6gS0wL1KTu"
   },
   "source": [
    "### Dataset 1:  Electric Vehicle Population Size History by County\n",
    "\n",
    "Type: CSV File\n",
    "\n",
    "Gathering Method: Manually downloaded from Washington State Government’s open data portal.\n",
    "\n",
    "Variables:\n",
    "\n",
    "County: The county name\n",
    "\n",
    "Month: Month of the data recording\n",
    "\n",
    "Electric Vehicle Total: Total number of EVs registered in that county and month"
   ]
  },
  {
   "cell_type": "code",
   "execution_count": 4,
   "metadata": {
    "id": "Su8E0uLuYkHU"
   },
   "outputs": [
    {
     "data": {
      "text/html": [
       "<div>\n",
       "<style scoped>\n",
       "    .dataframe tbody tr th:only-of-type {\n",
       "        vertical-align: middle;\n",
       "    }\n",
       "\n",
       "    .dataframe tbody tr th {\n",
       "        vertical-align: top;\n",
       "    }\n",
       "\n",
       "    .dataframe thead th {\n",
       "        text-align: right;\n",
       "    }\n",
       "</style>\n",
       "<table border=\"1\" class=\"dataframe\">\n",
       "  <thead>\n",
       "    <tr style=\"text-align: right;\">\n",
       "      <th></th>\n",
       "      <th>Date</th>\n",
       "      <th>County</th>\n",
       "      <th>State</th>\n",
       "      <th>Vehicle Primary Use</th>\n",
       "      <th>Battery Electric Vehicles (BEVs)</th>\n",
       "      <th>Plug-In Hybrid Electric Vehicles (PHEVs)</th>\n",
       "      <th>Electric Vehicle (EV) Total</th>\n",
       "      <th>Non-Electric Vehicle Total</th>\n",
       "      <th>Total Vehicles</th>\n",
       "      <th>Percent Electric Vehicles</th>\n",
       "    </tr>\n",
       "  </thead>\n",
       "  <tbody>\n",
       "    <tr>\n",
       "      <th>0</th>\n",
       "      <td>January 31 2018</td>\n",
       "      <td>Brevard</td>\n",
       "      <td>FL</td>\n",
       "      <td>Passenger</td>\n",
       "      <td>0</td>\n",
       "      <td>1</td>\n",
       "      <td>1</td>\n",
       "      <td>109</td>\n",
       "      <td>110</td>\n",
       "      <td>0.91</td>\n",
       "    </tr>\n",
       "    <tr>\n",
       "      <th>1</th>\n",
       "      <td>March 31 2021</td>\n",
       "      <td>Pinellas</td>\n",
       "      <td>FL</td>\n",
       "      <td>Passenger</td>\n",
       "      <td>1</td>\n",
       "      <td>1</td>\n",
       "      <td>2</td>\n",
       "      <td>113</td>\n",
       "      <td>115</td>\n",
       "      <td>1.74</td>\n",
       "    </tr>\n",
       "    <tr>\n",
       "      <th>2</th>\n",
       "      <td>August 31 2020</td>\n",
       "      <td>Shasta</td>\n",
       "      <td>CA</td>\n",
       "      <td>Passenger</td>\n",
       "      <td>1</td>\n",
       "      <td>0</td>\n",
       "      <td>1</td>\n",
       "      <td>36</td>\n",
       "      <td>37</td>\n",
       "      <td>2.70</td>\n",
       "    </tr>\n",
       "    <tr>\n",
       "      <th>3</th>\n",
       "      <td>June 30 2020</td>\n",
       "      <td>Bucks</td>\n",
       "      <td>PA</td>\n",
       "      <td>Passenger</td>\n",
       "      <td>1</td>\n",
       "      <td>0</td>\n",
       "      <td>1</td>\n",
       "      <td>24</td>\n",
       "      <td>25</td>\n",
       "      <td>4.00</td>\n",
       "    </tr>\n",
       "    <tr>\n",
       "      <th>4</th>\n",
       "      <td>February 28 2023</td>\n",
       "      <td>Snohomish</td>\n",
       "      <td>WA</td>\n",
       "      <td>Passenger</td>\n",
       "      <td>10907</td>\n",
       "      <td>2828</td>\n",
       "      <td>13735</td>\n",
       "      <td>528837</td>\n",
       "      <td>542572</td>\n",
       "      <td>2.53</td>\n",
       "    </tr>\n",
       "  </tbody>\n",
       "</table>\n",
       "</div>"
      ],
      "text/plain": [
       "               Date     County State Vehicle Primary Use  \\\n",
       "0   January 31 2018    Brevard    FL           Passenger   \n",
       "1     March 31 2021   Pinellas    FL           Passenger   \n",
       "2    August 31 2020     Shasta    CA           Passenger   \n",
       "3      June 30 2020      Bucks    PA           Passenger   \n",
       "4  February 28 2023  Snohomish    WA           Passenger   \n",
       "\n",
       "   Battery Electric Vehicles (BEVs)  Plug-In Hybrid Electric Vehicles (PHEVs)  \\\n",
       "0                                 0                                         1   \n",
       "1                                 1                                         1   \n",
       "2                                 1                                         0   \n",
       "3                                 1                                         0   \n",
       "4                             10907                                      2828   \n",
       "\n",
       "   Electric Vehicle (EV) Total  Non-Electric Vehicle Total  Total Vehicles  \\\n",
       "0                            1                         109             110   \n",
       "1                            2                         113             115   \n",
       "2                            1                          36              37   \n",
       "3                            1                          24              25   \n",
       "4                        13735                      528837          542572   \n",
       "\n",
       "   Percent Electric Vehicles  \n",
       "0                       0.91  \n",
       "1                       1.74  \n",
       "2                       2.70  \n",
       "3                       4.00  \n",
       "4                       2.53  "
      ]
     },
     "execution_count": 4,
     "metadata": {},
     "output_type": "execute_result"
    }
   ],
   "source": [
    "import pandas as pd\n",
    "\n",
    "population_history_df = pd.read_csv(\"Electric_Vehicle_Population_Size_History_By_County.csv\")\n",
    "population_history_df.head()"
   ]
  },
  {
   "cell_type": "markdown",
   "metadata": {
    "id": "hoUjq1tPzz7P"
   },
   "source": [
    "### Dataset 2: Electric Vehicle Population Data¶\n",
    "Type: CSV File\n",
    "Method: Programmatically downloaded from Washington State Government’s open data portal using the raw CSV link and Python’s requests library.\n",
    "Why this method?: This approach simulates real-world data access from APIs or open-data endpoints. It avoids manual downloading and is more efficient and reproducible.\n",
    "Variables:\n",
    "Model Year: Year the EV was manufactured\n",
    "Make: Vehicle brand\n",
    "Electric Range: Driving range on a full charge\n",
    "Vehicle Location: Coordinate of registration"
   ]
  },
  {
   "cell_type": "code",
   "execution_count": 5,
   "metadata": {},
   "outputs": [],
   "source": [
    "import requests\n",
    "\n",
    "\n",
    "ev_data_url = \"https://data.wa.gov/api/views/f6w7-q2d2/rows.csv?accessType=DOWNLOAD\"\n",
    "\n",
    "\n",
    "response = requests.get(ev_data_url)\n",
    "with open(\"Electric_Vehicle_Population_Data.csv\", \"wb\") as f:\n",
    "    f.write(response.content)\n"
   ]
  },
  {
   "cell_type": "code",
   "execution_count": 6,
   "metadata": {
    "id": "6zT0QxRyYmm7"
   },
   "outputs": [
    {
     "data": {
      "text/html": [
       "<div>\n",
       "<style scoped>\n",
       "    .dataframe tbody tr th:only-of-type {\n",
       "        vertical-align: middle;\n",
       "    }\n",
       "\n",
       "    .dataframe tbody tr th {\n",
       "        vertical-align: top;\n",
       "    }\n",
       "\n",
       "    .dataframe thead th {\n",
       "        text-align: right;\n",
       "    }\n",
       "</style>\n",
       "<table border=\"1\" class=\"dataframe\">\n",
       "  <thead>\n",
       "    <tr style=\"text-align: right;\">\n",
       "      <th></th>\n",
       "      <th>VIN (1-10)</th>\n",
       "      <th>County</th>\n",
       "      <th>City</th>\n",
       "      <th>State</th>\n",
       "      <th>Postal Code</th>\n",
       "      <th>Model Year</th>\n",
       "      <th>Make</th>\n",
       "      <th>Model</th>\n",
       "      <th>Electric Vehicle Type</th>\n",
       "      <th>Clean Alternative Fuel Vehicle (CAFV) Eligibility</th>\n",
       "      <th>Electric Range</th>\n",
       "      <th>Base MSRP</th>\n",
       "      <th>Legislative District</th>\n",
       "      <th>DOL Vehicle ID</th>\n",
       "      <th>Vehicle Location</th>\n",
       "      <th>Electric Utility</th>\n",
       "      <th>2020 Census Tract</th>\n",
       "    </tr>\n",
       "  </thead>\n",
       "  <tbody>\n",
       "    <tr>\n",
       "      <th>0</th>\n",
       "      <td>5YJ3E1EBXK</td>\n",
       "      <td>King</td>\n",
       "      <td>Seattle</td>\n",
       "      <td>WA</td>\n",
       "      <td>98178.0</td>\n",
       "      <td>2019</td>\n",
       "      <td>TESLA</td>\n",
       "      <td>MODEL 3</td>\n",
       "      <td>Battery Electric Vehicle (BEV)</td>\n",
       "      <td>Clean Alternative Fuel Vehicle Eligible</td>\n",
       "      <td>220.0</td>\n",
       "      <td>0.0</td>\n",
       "      <td>37.0</td>\n",
       "      <td>477309682</td>\n",
       "      <td>POINT (-122.23825 47.49461)</td>\n",
       "      <td>CITY OF SEATTLE - (WA)|CITY OF TACOMA - (WA)</td>\n",
       "      <td>5.303301e+10</td>\n",
       "    </tr>\n",
       "    <tr>\n",
       "      <th>1</th>\n",
       "      <td>5YJYGDEE3L</td>\n",
       "      <td>Kitsap</td>\n",
       "      <td>Poulsbo</td>\n",
       "      <td>WA</td>\n",
       "      <td>98370.0</td>\n",
       "      <td>2020</td>\n",
       "      <td>TESLA</td>\n",
       "      <td>MODEL Y</td>\n",
       "      <td>Battery Electric Vehicle (BEV)</td>\n",
       "      <td>Clean Alternative Fuel Vehicle Eligible</td>\n",
       "      <td>291.0</td>\n",
       "      <td>0.0</td>\n",
       "      <td>23.0</td>\n",
       "      <td>109705683</td>\n",
       "      <td>POINT (-122.64681 47.73689)</td>\n",
       "      <td>PUGET SOUND ENERGY INC</td>\n",
       "      <td>5.303509e+10</td>\n",
       "    </tr>\n",
       "    <tr>\n",
       "      <th>2</th>\n",
       "      <td>KM8KRDAF5P</td>\n",
       "      <td>Kitsap</td>\n",
       "      <td>Olalla</td>\n",
       "      <td>WA</td>\n",
       "      <td>98359.0</td>\n",
       "      <td>2023</td>\n",
       "      <td>HYUNDAI</td>\n",
       "      <td>IONIQ 5</td>\n",
       "      <td>Battery Electric Vehicle (BEV)</td>\n",
       "      <td>Eligibility unknown as battery range has not b...</td>\n",
       "      <td>0.0</td>\n",
       "      <td>0.0</td>\n",
       "      <td>26.0</td>\n",
       "      <td>230390492</td>\n",
       "      <td>POINT (-122.54729 47.42602)</td>\n",
       "      <td>PUGET SOUND ENERGY INC</td>\n",
       "      <td>5.303509e+10</td>\n",
       "    </tr>\n",
       "    <tr>\n",
       "      <th>3</th>\n",
       "      <td>5UXTA6C0XM</td>\n",
       "      <td>Kitsap</td>\n",
       "      <td>Seabeck</td>\n",
       "      <td>WA</td>\n",
       "      <td>98380.0</td>\n",
       "      <td>2021</td>\n",
       "      <td>BMW</td>\n",
       "      <td>X5</td>\n",
       "      <td>Plug-in Hybrid Electric Vehicle (PHEV)</td>\n",
       "      <td>Clean Alternative Fuel Vehicle Eligible</td>\n",
       "      <td>30.0</td>\n",
       "      <td>0.0</td>\n",
       "      <td>35.0</td>\n",
       "      <td>267929112</td>\n",
       "      <td>POINT (-122.81585 47.64509)</td>\n",
       "      <td>PUGET SOUND ENERGY INC</td>\n",
       "      <td>5.303509e+10</td>\n",
       "    </tr>\n",
       "    <tr>\n",
       "      <th>4</th>\n",
       "      <td>JTMAB3FV7P</td>\n",
       "      <td>Thurston</td>\n",
       "      <td>Rainier</td>\n",
       "      <td>WA</td>\n",
       "      <td>98576.0</td>\n",
       "      <td>2023</td>\n",
       "      <td>TOYOTA</td>\n",
       "      <td>RAV4 PRIME</td>\n",
       "      <td>Plug-in Hybrid Electric Vehicle (PHEV)</td>\n",
       "      <td>Clean Alternative Fuel Vehicle Eligible</td>\n",
       "      <td>42.0</td>\n",
       "      <td>0.0</td>\n",
       "      <td>2.0</td>\n",
       "      <td>236505139</td>\n",
       "      <td>POINT (-122.68993 46.88897)</td>\n",
       "      <td>PUGET SOUND ENERGY INC</td>\n",
       "      <td>5.306701e+10</td>\n",
       "    </tr>\n",
       "  </tbody>\n",
       "</table>\n",
       "</div>"
      ],
      "text/plain": [
       "   VIN (1-10)    County     City State  Postal Code  Model Year     Make  \\\n",
       "0  5YJ3E1EBXK      King  Seattle    WA      98178.0        2019    TESLA   \n",
       "1  5YJYGDEE3L    Kitsap  Poulsbo    WA      98370.0        2020    TESLA   \n",
       "2  KM8KRDAF5P    Kitsap   Olalla    WA      98359.0        2023  HYUNDAI   \n",
       "3  5UXTA6C0XM    Kitsap  Seabeck    WA      98380.0        2021      BMW   \n",
       "4  JTMAB3FV7P  Thurston  Rainier    WA      98576.0        2023   TOYOTA   \n",
       "\n",
       "        Model                   Electric Vehicle Type  \\\n",
       "0     MODEL 3          Battery Electric Vehicle (BEV)   \n",
       "1     MODEL Y          Battery Electric Vehicle (BEV)   \n",
       "2     IONIQ 5          Battery Electric Vehicle (BEV)   \n",
       "3          X5  Plug-in Hybrid Electric Vehicle (PHEV)   \n",
       "4  RAV4 PRIME  Plug-in Hybrid Electric Vehicle (PHEV)   \n",
       "\n",
       "   Clean Alternative Fuel Vehicle (CAFV) Eligibility  Electric Range  \\\n",
       "0            Clean Alternative Fuel Vehicle Eligible           220.0   \n",
       "1            Clean Alternative Fuel Vehicle Eligible           291.0   \n",
       "2  Eligibility unknown as battery range has not b...             0.0   \n",
       "3            Clean Alternative Fuel Vehicle Eligible            30.0   \n",
       "4            Clean Alternative Fuel Vehicle Eligible            42.0   \n",
       "\n",
       "   Base MSRP  Legislative District  DOL Vehicle ID  \\\n",
       "0        0.0                  37.0       477309682   \n",
       "1        0.0                  23.0       109705683   \n",
       "2        0.0                  26.0       230390492   \n",
       "3        0.0                  35.0       267929112   \n",
       "4        0.0                   2.0       236505139   \n",
       "\n",
       "              Vehicle Location                              Electric Utility  \\\n",
       "0  POINT (-122.23825 47.49461)  CITY OF SEATTLE - (WA)|CITY OF TACOMA - (WA)   \n",
       "1  POINT (-122.64681 47.73689)                        PUGET SOUND ENERGY INC   \n",
       "2  POINT (-122.54729 47.42602)                        PUGET SOUND ENERGY INC   \n",
       "3  POINT (-122.81585 47.64509)                        PUGET SOUND ENERGY INC   \n",
       "4  POINT (-122.68993 46.88897)                        PUGET SOUND ENERGY INC   \n",
       "\n",
       "   2020 Census Tract  \n",
       "0       5.303301e+10  \n",
       "1       5.303509e+10  \n",
       "2       5.303509e+10  \n",
       "3       5.303509e+10  \n",
       "4       5.306701e+10  "
      ]
     },
     "execution_count": 6,
     "metadata": {},
     "output_type": "execute_result"
    }
   ],
   "source": [
    "\n",
    "ev_df = pd.read_csv(\"Electric_Vehicle_Population_Data.csv\")\n",
    "ev_df.head()\n"
   ]
  },
  {
   "cell_type": "markdown",
   "metadata": {},
   "source": [
    "Optional data storing step: You may save your raw dataset files to the local data store before moving to the next step."
   ]
  },
  {
   "cell_type": "code",
   "execution_count": 7,
   "metadata": {},
   "outputs": [],
   "source": [
    "#Optional: store the raw data in your local data store"
   ]
  },
  {
   "cell_type": "markdown",
   "metadata": {
    "id": "QwSWIVmotLgV"
   },
   "source": [
    "## 2. Assess data\n",
    "\n",
    "Assess the data according to data quality and tidiness metrics using the report below.\n",
    "\n",
    "List **two** data quality issues and **two** tidiness issues. Assess each data issue visually **and** programmatically, then briefly describe the issue you find.  **Make sure you include justifications for the methods you use for the assessment.**"
   ]
  },
  {
   "cell_type": "markdown",
   "metadata": {
    "id": "adaK2iPNzVu4"
   },
   "source": [
    "###  Quality Issue 1: Missing values in Electric Range"
   ]
  },
  {
   "cell_type": "code",
   "execution_count": 8,
   "metadata": {
    "id": "SpW59kh-zl8d"
   },
   "outputs": [
    {
     "data": {
      "text/html": [
       "<div>\n",
       "<style scoped>\n",
       "    .dataframe tbody tr th:only-of-type {\n",
       "        vertical-align: middle;\n",
       "    }\n",
       "\n",
       "    .dataframe tbody tr th {\n",
       "        vertical-align: top;\n",
       "    }\n",
       "\n",
       "    .dataframe thead th {\n",
       "        text-align: right;\n",
       "    }\n",
       "</style>\n",
       "<table border=\"1\" class=\"dataframe\">\n",
       "  <thead>\n",
       "    <tr style=\"text-align: right;\">\n",
       "      <th></th>\n",
       "      <th>Electric Range</th>\n",
       "    </tr>\n",
       "  </thead>\n",
       "  <tbody>\n",
       "    <tr>\n",
       "      <th>0</th>\n",
       "      <td>220.0</td>\n",
       "    </tr>\n",
       "    <tr>\n",
       "      <th>1</th>\n",
       "      <td>291.0</td>\n",
       "    </tr>\n",
       "    <tr>\n",
       "      <th>2</th>\n",
       "      <td>0.0</td>\n",
       "    </tr>\n",
       "    <tr>\n",
       "      <th>3</th>\n",
       "      <td>30.0</td>\n",
       "    </tr>\n",
       "    <tr>\n",
       "      <th>4</th>\n",
       "      <td>42.0</td>\n",
       "    </tr>\n",
       "  </tbody>\n",
       "</table>\n",
       "</div>"
      ],
      "text/plain": [
       "   Electric Range\n",
       "0           220.0\n",
       "1           291.0\n",
       "2             0.0\n",
       "3            30.0\n",
       "4            42.0"
      ]
     },
     "execution_count": 8,
     "metadata": {},
     "output_type": "execute_result"
    }
   ],
   "source": [
    "ev_df[['Electric Range']].head()"
   ]
  },
  {
   "cell_type": "code",
   "execution_count": 9,
   "metadata": {
    "id": "-qfcocStzsKg"
   },
   "outputs": [
    {
     "data": {
      "text/plain": [
       "36"
      ]
     },
     "execution_count": 9,
     "metadata": {},
     "output_type": "execute_result"
    }
   ],
   "source": [
    "ev_df['Electric Range'].isnull().sum()"
   ]
  },
  {
   "cell_type": "markdown",
   "metadata": {},
   "source": [
    "Issue and justification: The Electric Range column contains 36 missing values, which means some records have no information about how far the vehicle can travel on a full charge. Since this variable is critical for understanding EV performance, missing data here would affect any range-based analysis. This was confirmed using isnull().sum() which is a standard way to check for missing data."
   ]
  },
  {
   "cell_type": "markdown",
   "metadata": {
    "id": "8Be77N4I1AmE"
   },
   "source": [
    "###  Quality Issue 2: Duplicated County and Date Entries"
   ]
  },
  {
   "cell_type": "code",
   "execution_count": 28,
   "metadata": {
    "id": "iMhHyiyLM2I3"
   },
   "outputs": [
    {
     "data": {
      "text/plain": [
       "6194"
      ]
     },
     "execution_count": 28,
     "metadata": {},
     "output_type": "execute_result"
    }
   ],
   "source": [
    "population_history_df.duplicated(subset=['County', 'Date']).sum()\n",
    "\n",
    "\n",
    "\n"
   ]
  },
  {
   "cell_type": "markdown",
   "metadata": {},
   "source": [
    "Issue and justification:Upon checking the dataset for duplicates based on both County and Date columns, 6194 duplicated rows were found. Duplicate entries can artificially inflate counts and percentages of electric vehicles if left unaddressed, leading to inaccurate analysis and conclusions. Identifying duplicates using .duplicated(subset=['County', 'Date']).sum() ensures that each county-date pair is unique and maintains data accuracy."
   ]
  },
  {
   "cell_type": "markdown",
   "metadata": {
    "id": "lXhGiYyiwwKN"
   },
   "source": [
    "###  Tidiness Issue 1:  Vehicle Location contains both longitude and latitude\n"
   ]
  },
  {
   "cell_type": "code",
   "execution_count": 29,
   "metadata": {
    "id": "fleC5rORI0Xl"
   },
   "outputs": [
    {
     "data": {
      "text/plain": [
       "0    POINT (-122.23825 47.49461)\n",
       "1    POINT (-122.64681 47.73689)\n",
       "2    POINT (-122.54729 47.42602)\n",
       "3    POINT (-122.81585 47.64509)\n",
       "4    POINT (-122.68993 46.88897)\n",
       "Name: Vehicle Location, dtype: object"
      ]
     },
     "execution_count": 29,
     "metadata": {},
     "output_type": "execute_result"
    }
   ],
   "source": [
    "ev_df['Vehicle Location'].head()\n"
   ]
  },
  {
   "cell_type": "markdown",
   "metadata": {},
   "source": [
    "Issue and justification:The Vehicle Location combines two variables (longitude and latitude) in one column,so Each variable (Longitude, Latitude) should be in its own column."
   ]
  },
  {
   "cell_type": "markdown",
   "metadata": {
    "id": "4ffMoRGSwzYj"
   },
   "source": [
    "### Tidiness Issue 2: Date is stored as Object instead of datetime\n",
    "\n"
   ]
  },
  {
   "cell_type": "code",
   "execution_count": 30,
   "metadata": {
    "id": "XUpeoqokw5Qt"
   },
   "outputs": [
    {
     "data": {
      "text/plain": [
       "dtype('O')"
      ]
     },
     "execution_count": 30,
     "metadata": {},
     "output_type": "execute_result"
    }
   ],
   "source": [
    "population_history_df['Date'].dtype\n",
    "\n"
   ]
  },
  {
   "cell_type": "markdown",
   "metadata": {},
   "source": [
    "Issue and justification: The Date column should be in datetime format but is stored as a object type,so Dates should always be parsed as datetime types to allow correct time-based analysis like grouping by year or month."
   ]
  },
  {
   "cell_type": "markdown",
   "metadata": {
    "id": "D6gmLnBttpCh"
   },
   "source": [
    "## 3. Clean data\n",
    "Clean the data to solve the 4 issues corresponding to data quality and tidiness found in the assessing step. **Make sure you include justifications for your cleaning decisions.**\n",
    "\n",
    "After the cleaning for each issue, please use **either** the visually or programatical method to validate the cleaning was succesful.\n",
    "\n",
    "At this stage, you are also expected to remove variables that are unnecessary for your analysis and combine your datasets. Depending on your datasets, you may choose to perform variable combination and elimination before or after the cleaning stage. Your dataset must have **at least** 4 variables after combining the data."
   ]
  },
  {
   "cell_type": "code",
   "execution_count": 14,
   "metadata": {},
   "outputs": [],
   "source": [
    "ev_clean = ev_df.copy()\n",
    "population_clean = population_history_df.copy()"
   ]
  },
  {
   "cell_type": "markdown",
   "metadata": {
    "id": "FmFhN52Yyn3l"
   },
   "source": [
    "### **Quality Issue 1: Missing Values in Electric Range"
   ]
  },
  {
   "cell_type": "code",
   "execution_count": 15,
   "metadata": {
    "id": "9UejDWrNMW4a"
   },
   "outputs": [],
   "source": [
    "\n",
    "ev_clean['Electric Range'] = ev_clean['Electric Range'].fillna(ev_clean['Electric Range'].median())"
   ]
  },
  {
   "cell_type": "code",
   "execution_count": 16,
   "metadata": {
    "id": "oUBee-LPytkv"
   },
   "outputs": [
    {
     "data": {
      "text/plain": [
       "0"
      ]
     },
     "execution_count": 16,
     "metadata": {},
     "output_type": "execute_result"
    }
   ],
   "source": [
    "ev_clean['Electric Range'].isnull().sum()"
   ]
  },
  {
   "cell_type": "markdown",
   "metadata": {},
   "source": [
    "Justification:Missing values in Electric Range would affect our analysis of EV performance. Filling with the median ensures a realistic central value is used and preserves the number of samples."
   ]
  },
  {
   "cell_type": "markdown",
   "metadata": {
    "id": "n_DAUbJrymBL"
   },
   "source": [
    "### Quality Issue 2: Duplicated County and Date Entries"
   ]
  },
  {
   "cell_type": "code",
   "execution_count": 31,
   "metadata": {
    "id": "5Yfb-Yu5MTuE"
   },
   "outputs": [
    {
     "data": {
      "text/plain": [
       "0"
      ]
     },
     "execution_count": 31,
     "metadata": {},
     "output_type": "execute_result"
    }
   ],
   "source": [
    "# Drop duplicated rows based on County and Date\n",
    "population_clean = population_clean.drop_duplicates(subset=['County', 'Date'])\n",
    "\n",
    "population_clean.duplicated(subset=['County', 'Date']).sum()\n"
   ]
  },
  {
   "cell_type": "markdown",
   "metadata": {},
   "source": [
    "Justification: Duplicate entries inflate vehicle counts. Removing them ensures each County-Date combination is unique and avoids biased results."
   ]
  },
  {
   "cell_type": "markdown",
   "metadata": {
    "id": "bIUrrfSNyOPR"
   },
   "source": [
    "### Tidiness Issue 1: Vehicle Location contains both longitude and latitude"
   ]
  },
  {
   "cell_type": "code",
   "execution_count": 32,
   "metadata": {
    "id": "fib0zAm333bn"
   },
   "outputs": [
    {
     "data": {
      "text/html": [
       "<div>\n",
       "<style scoped>\n",
       "    .dataframe tbody tr th:only-of-type {\n",
       "        vertical-align: middle;\n",
       "    }\n",
       "\n",
       "    .dataframe tbody tr th {\n",
       "        vertical-align: top;\n",
       "    }\n",
       "\n",
       "    .dataframe thead th {\n",
       "        text-align: right;\n",
       "    }\n",
       "</style>\n",
       "<table border=\"1\" class=\"dataframe\">\n",
       "  <thead>\n",
       "    <tr style=\"text-align: right;\">\n",
       "      <th></th>\n",
       "      <th>Longitude</th>\n",
       "      <th>Latitude</th>\n",
       "    </tr>\n",
       "  </thead>\n",
       "  <tbody>\n",
       "    <tr>\n",
       "      <th>0</th>\n",
       "      <td>-122.23825</td>\n",
       "      <td>47.49461</td>\n",
       "    </tr>\n",
       "    <tr>\n",
       "      <th>1</th>\n",
       "      <td>-122.64681</td>\n",
       "      <td>47.73689</td>\n",
       "    </tr>\n",
       "    <tr>\n",
       "      <th>2</th>\n",
       "      <td>-122.54729</td>\n",
       "      <td>47.42602</td>\n",
       "    </tr>\n",
       "    <tr>\n",
       "      <th>3</th>\n",
       "      <td>-122.81585</td>\n",
       "      <td>47.64509</td>\n",
       "    </tr>\n",
       "    <tr>\n",
       "      <th>4</th>\n",
       "      <td>-122.68993</td>\n",
       "      <td>46.88897</td>\n",
       "    </tr>\n",
       "  </tbody>\n",
       "</table>\n",
       "</div>"
      ],
      "text/plain": [
       "    Longitude  Latitude\n",
       "0  -122.23825  47.49461\n",
       "1  -122.64681  47.73689\n",
       "2  -122.54729  47.42602\n",
       "3  -122.81585  47.64509\n",
       "4  -122.68993  46.88897"
      ]
     },
     "execution_count": 32,
     "metadata": {},
     "output_type": "execute_result"
    }
   ],
   "source": [
    "# Split the Vehicle Location into two separate columns\n",
    "split_location = ev_clean['Vehicle Location'].str.extract(r'POINT \\(([-\\d\\.]+) ([-\\d\\.]+)\\)')\n",
    "ev_clean['Longitude'] = split_location[0]\n",
    "ev_clean['Latitude'] = split_location[1]\n",
    "\n",
    "ev_clean[['Longitude', 'Latitude']].head()"
   ]
  },
  {
   "cell_type": "markdown",
   "metadata": {},
   "source": [
    "Justification: Longitude and Latitude should be in separate columns to enable geographic analysis and mapping easily"
   ]
  },
  {
   "cell_type": "markdown",
   "metadata": {
    "id": "o51Bt8kwyTzk"
   },
   "source": [
    "### **Tidiness Issue 2: Date is stored as Object (string) instead of datetime"
   ]
  },
  {
   "cell_type": "code",
   "execution_count": 33,
   "metadata": {
    "id": "7zW8O5yx4Y9O"
   },
   "outputs": [
    {
     "data": {
      "text/plain": [
       "dtype('<M8[ns]')"
      ]
     },
     "execution_count": 33,
     "metadata": {},
     "output_type": "execute_result"
    }
   ],
   "source": [
    "\n",
    "# Convert Date column to datetime format\n",
    "population_clean['Date'] = pd.to_datetime(population_clean['Date'])\n",
    "\n",
    "population_clean['Date'].dtype\n"
   ]
  },
  {
   "cell_type": "markdown",
   "metadata": {},
   "source": [
    "Justification:Storing dates properly as datetime64 enables correct time-based grouping, filtering, and visualization.\n",
    "\n"
   ]
  },
  {
   "cell_type": "markdown",
   "metadata": {},
   "source": [
    "### **Remove unnecessary variables and combine datasets**\n",
    "\n",
    "Depending on the datasets, you can also peform the combination before the cleaning steps."
   ]
  },
  {
   "cell_type": "markdown",
   "metadata": {},
   "source": [
    "4.Update your data store\n",
    "Update your local database/data store with the cleaned data, following best practices for storing your cleaned data:\n",
    "\n",
    "Must maintain different instances / versions of data (raw and cleaned data)\n",
    "Must name the dataset files informatively\n",
    "Ensure both the raw and cleaned data is saved to your database/data store\n"
   ]
  },
  {
   "cell_type": "code",
   "execution_count": 22,
   "metadata": {},
   "outputs": [],
   "source": [
    "\n",
    "ev_clean.to_csv(\"cleaned_data_ev.csv\", index=False)\n",
    "population_clean.to_csv(\"cleaned_data_population.csv\", index=False)\n",
    "\n",
    "ev_df.to_csv(\"raw_data_ev.csv\", index=False)\n",
    "population_history_df.to_csv(\"raw_data_population.csv\", index=False)"
   ]
  },
  {
   "cell_type": "code",
   "execution_count": 35,
   "metadata": {},
   "outputs": [],
   "source": [
    "\n",
    "\n",
    "\n",
    "population_clean['Date'] = pd.to_datetime(population_clean['Date'])\n",
    "\n",
    "\n",
    "population_clean['Year'] = population_clean['Date'].dt.year.astype(str)\n",
    "\n",
    "ev_clean['Model Year'] = ev_clean['Model Year'].astype(str)\n",
    "\n",
    "# Merge on County and Year\n",
    "merged_df = pd.merge(ev_clean, population_clean, left_on=['City', 'Model Year'], right_on=['County', 'Year'], how='inner')\n",
    "\n",
    "\n",
    "merged_df.to_csv(\"merged_data_ev_population.csv\", index=False)\n"
   ]
  },
  {
   "cell_type": "markdown",
   "metadata": {
    "id": "cGy_yddGtzhM"
   },
   "source": [
    "## 5. Answer the research question\n",
    "\n",
    "### **5.1:** Define and answer the research question \n",
    "Going back to the problem statement in step 1, use the cleaned data to answer the question you raised. Produce **at least** two visualizations using the cleaned data and explain how they help you answer the question."
   ]
  },
  {
   "cell_type": "markdown",
   "metadata": {
    "id": "gjedE4s4ZkEd"
   },
   "source": [
    "*Research question:How have electric vehicle production trends compared to the development of electric vehicle charging infrastructure over time?"
   ]
  },
  {
   "cell_type": "code",
   "execution_count": 23,
   "metadata": {
    "id": "Lkw3rW9kZmOm"
   },
   "outputs": [
    {
     "data": {
      "image/png": "[encoded data removed]",
      "text/plain": [
       "<Figure size 1000x500 with 1 Axes>"
      ]
     },
     "metadata": {},
     "output_type": "display_data"
    }
   ],
   "source": [
    "import matplotlib.pyplot as plt\n",
    "import seaborn as sns\n",
    "\n",
    "ev_counts = ev_clean['Model Year'].value_counts().sort_index()\n",
    "\n",
    "plt.figure(figsize=(10, 5))\n",
    "sns.barplot(x=ev_counts.index, y=ev_counts.values)\n",
    "plt.title(\"Electric Vehicles by Model Year\")\n",
    "plt.xlabel(\"Model Year\")\n",
    "plt.ylabel(\"Number of EVs\")\n",
    "plt.xticks(rotation=45)\n",
    "plt.tight_layout()\n",
    "plt.show()\n"
   ]
  },
  {
   "cell_type": "markdown",
   "metadata": {},
   "source": [
    "*Answer to research question:The number of electric vehicles produced has increased significantly after 2015, showing rising consumer interest and industry growth."
   ]
  },
  {
   "cell_type": "code",
   "execution_count": 24,
   "metadata": {
    "id": "6fdK_8ZGZm9R"
   },
   "outputs": [
    {
     "data": {
      "image/png": "[encoded data removed]",
      "text/plain": [
       "<Figure size 1000x500 with 1 Axes>"
      ]
     },
     "metadata": {},
     "output_type": "display_data"
    }
   ],
   "source": [
    "\n",
    "population_clean['Date'] = pd.to_datetime(population_clean['Date'])\n",
    "\n",
    "\n",
    "ev_population_by_year = population_clean.groupby(population_clean['Date'].dt.year)['Electric Vehicle (EV) Total'].sum()\n",
    "\n",
    "\n",
    "import matplotlib.pyplot as plt\n",
    "\n",
    "plt.figure(figsize=(10, 5))\n",
    "ev_population_by_year.plot(kind='bar')\n",
    "plt.title(\"Total Electric Vehicles by Year\")\n",
    "plt.xlabel(\"Year\")\n",
    "plt.ylabel(\"Number of Electric Vehicles\")\n",
    "plt.xticks(rotation=45)\n",
    "plt.tight_layout()\n",
    "plt.show()\n"
   ]
  },
  {
   "cell_type": "markdown",
   "metadata": {
    "id": "K5RgvMGUZoHn"
   },
   "source": [
    "*Answer to research question:* Level 2 chargers are the most common, supporting the increasing number of electric vehicles. Infrastructure growth matches the rise in EV production."
   ]
  },
  {
   "cell_type": "markdown",
   "metadata": {
    "id": "0ezWXXZVj-TP"
   },
   "source": [
    "### **5.2:** Reflection\n",
    "In 2-4 sentences, if you had more time to complete the project, what actions would you take? For example, which data quality and structural issues would you look into further, and what research questions would you further explore?"
   ]
  },
  {
   "cell_type": "markdown",
   "metadata": {
    "id": "XB3RBDG5kFe1"
   },
   "source": [
    "*Answer:This project revealed how electric vehicle manufacturing trends and adoption rates by region can be analyzed together. Both datasets demonstrated the significant growth in EV production and ownership over the past decade. Further research could explore how policy changes, infrastructure development, and regional incentives affect EV adoption at a more granular level."
   ]
  }
 ],
 "metadata": {
  "colab": {
   "provenance": []
  },
  "kernelspec": {
   "display_name": "Python 3 (ipykernel)",
   "language": "python",
   "name": "python3"
  },
  "language_info": {
   "codemirror_mode": {
    "name": "ipython",
    "version": 3
   },
   "file_extension": ".py",
   "mimetype": "text/x-python",
   "name": "python",
   "nbconvert_exporter": "python",
   "pygments_lexer": "ipython3",
   "version": "3.10.11"
  }
 },
 "nbformat": 4,
 "nbformat_minor": 1
}
